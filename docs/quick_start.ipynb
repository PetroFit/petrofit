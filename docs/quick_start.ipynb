{
 "cells": [
  {
   "cell_type": "markdown",
   "id": "9699e83a",
   "metadata": {},
   "source": [
    "# Quick Start\n",
    "\n",
    "This section offers a brief and quick guide to using PetroFit. It also offers some basic tips on how to use the tools in Photutils and Astropy. For detailed descriptions and workflows, please visit the sections (or Photutils/Astropy documentation) on the topic you are interested in."
   ]
  },
  {
   "cell_type": "markdown",
   "id": "a68cbd8e",
   "metadata": {},
   "source": [
    "## Loading Example Data\n",
    "\n",
    "The following data is a cutout of a group of bright galaxies in Abell 2744 (located at `(3.596248, -30.388517)`). The original data was acquired by the [Hubble Frontier Fields](https://frontierfields.org) team via the WFC3 instrument in the `F105W` filter and can be directly downloaded from the [Mikulski Archive for Space Telescopes](https://archive.stsci.edu/pub/hlsp/frontier/abell2744/images/hst/v1.0/hlsp_frontier_hst_wfc3-60mas_abell2744_f105w_v1.0_drz.fits). The cutout image used in this documentation can be found in the git repository at the following path `petrofit/docs/data/abell_2744_dwarf_galaxy_f105w.fits.gz`.\n",
    "\n",
    "### Loading Image \n",
    "You can use `astropy`'s ``CCDData`` to load the example data and visualize it through `matplotlib`. Note that ``CCDData.read`` does not return a 2D array, but rather a ``CCDData`` instance which contains the image array, header, and WCS. To access the image array stored in the ``CCDData`` use the ``data`` attribute (i.e ``CCDData.data`` as shown in the ``plt.imshow`` command below)."
   ]
  },
  {
   "cell_type": "code",
   "execution_count": null,
   "id": "33eab6a6",
   "metadata": {},
   "outputs": [],
   "source": [
    "from astropy.nddata import CCDData\n",
    "\n",
    "image = CCDData.read('data/abell_2744_dwarf_galaxy_f105w.fits.gz')"
   ]
  },
  {
   "cell_type": "code",
   "execution_count": null,
   "id": "7c75fd46",
   "metadata": {
    "nbsphinx": "hidden"
   },
   "outputs": [],
   "source": [
    "# Hidden cell\n",
    "\n",
    "%matplotlib inline\n",
    "\n",
    "# Stop Fit Model to Data section warnings\n",
    "import warnings\n",
    "warnings.filterwarnings('ignore', append=True)"
   ]
  },
  {
   "cell_type": "code",
   "execution_count": null,
   "id": "f2f045f6",
   "metadata": {
    "scrolled": false
   },
   "outputs": [],
   "source": [
    "import numpy as np\n",
    "from matplotlib import pyplot as plt\n",
    "\n",
    "plt.rcParams['figure.figsize'] = [10, 10]\n",
    "plt.rcParams['image.origin'] = 'lower'\n",
    "\n",
    "vmax = 0.05 # vmax for matplotlib imshow\n",
    "vmin = - vmax \n",
    "\n",
    "plt.imshow(image.data, vmin=vmin, vmax=vmax)\n",
    "plt.title(\"Galaxy in Abell 2744\")\n",
    "plt.xlabel(\"Pixels\")\n",
    "plt.ylabel(\"Pixels\")\n",
    "plt.show()"
   ]
  },
  {
   "cell_type": "markdown",
   "id": "1b5204cf",
   "metadata": {},
   "source": [
    "### Loading RMS \n",
    "Since we only want the rms image array, we use `astropy`'s ``io.fits.getdata`` function as follows:"
   ]
  },
  {
   "cell_type": "code",
   "execution_count": null,
   "id": "61e43267",
   "metadata": {},
   "outputs": [],
   "source": [
    "from astropy.io import fits \n",
    "rms = fits.getdata('data/abell_2744_dwarf_galaxy_f105w_rms.fits.gz')"
   ]
  },
  {
   "cell_type": "code",
   "execution_count": null,
   "id": "6a9f164d",
   "metadata": {},
   "outputs": [],
   "source": [
    "plt.imshow(rms)\n",
    "plt.title(\"RMS Image\")\n",
    "plt.xlabel(\"Pixels\")\n",
    "plt.ylabel(\"Pixels\")\n",
    "plt.show()"
   ]
  },
  {
   "cell_type": "markdown",
   "id": "004686be",
   "metadata": {},
   "source": [
    "### Making Cutouts\n",
    "\n",
    "You can use `astropy`'s `Cutout2D` function to make cutouts of sources. To access the data (image array), use the ``data`` attribute (i.e ``Cutout2D.data`` as shown in the ``plt.imshow`` command below). Note that ``position`` can be a `SkyCoord` if you provide the `Cutout2D` function a WCS."
   ]
  },
  {
   "cell_type": "code",
   "execution_count": null,
   "id": "fd575cb6",
   "metadata": {},
   "outputs": [],
   "source": [
    "from astropy.nddata import Cutout2D\n",
    "\n",
    "# Make cutout image, centerd at (100, 100) pixels, 40 pixels in size\n",
    "cutout_image = Cutout2D(image, position=(100,100), size=40)\n",
    "\n",
    "# Make cutout rms, centerd at (100, 100) pixels, 40 pixels in size\n",
    "cutout_rms = Cutout2D(rms, position=(100,100), size=40)\n",
    "\n",
    "# Plot cutouts\n",
    "# ------------\n",
    "plt.imshow(cutout_image.data, vmin=vmin, vmax=vmax)\n",
    "plt.title(\"Cutout Galaxy\")\n",
    "plt.xlabel(\"Pixels\")\n",
    "plt.ylabel(\"Pixels\")\n",
    "plt.show()\n",
    "\n",
    "plt.imshow(cutout_rms.data)\n",
    "plt.title(\"Cutout RMS\")\n",
    "plt.xlabel(\"Pixels\")\n",
    "plt.ylabel(\"Pixels\")\n",
    "plt.show()"
   ]
  },
  {
   "cell_type": "markdown",
   "id": "0cf2d635",
   "metadata": {},
   "source": [
    "## Defining AstroPy Sérsic Models"
   ]
  },
  {
   "cell_type": "markdown",
   "id": "7af930fe",
   "metadata": {},
   "source": [
    "This example shows how to define a 2D Sérsic model using `astropy`. We fill in our initial guess for the parameters (or correct parameters if we know them) when initializing the ``Sersic2D`` object. \n",
    "\n",
    "PetroFit provides a helper function `get_default_sersic_bounds`, which returns a Python dictionary with default parameter bounds. This is useful when fitting because it is used to constrain the fitting parameter space. The `get_default_sersic_bounds` function returns the Python dictionary below. The keys of the dictionary are parameter names and the values are tuples representing the min and max range of the parameter (N.B min or max values are set to `None` if boundless).\n",
    "\n",
    "```\n",
    "# get_default_sersic_bounds returns:\n",
    "\n",
    "bounds = {\n",
    "    'amplitude': (0., None),\n",
    "    'r_eff': (0, None),\n",
    "    'n': (0, 10),\n",
    "    'ellip': (0, 1),\n",
    "    'theta': (-2 * np.pi, 2 * np.pi),\n",
    "}\n",
    "```"
   ]
  },
  {
   "cell_type": "code",
   "execution_count": null,
   "id": "0b50d7c6",
   "metadata": {},
   "outputs": [],
   "source": [
    "from astropy.modeling import models\n",
    "from petrofit.modeling import get_default_sersic_bounds\n",
    "\n",
    "sersic_model = models.Sersic2D(\n",
    "\n",
    "        amplitude=10, # Intensity at r_eff\n",
    "        r_eff=1, # Effective or half-lilght radius\n",
    "        n=4, # Sersic index\n",
    "        x_0=20, # center of model in the x direction\n",
    "        y_0=20, # center of model in the y direction\n",
    "        ellip=0.1, # Ellipticity\n",
    "        theta=0.0, # Rotation angle in radians, counterclockwise from the positive x-axis.\n",
    "    \n",
    "        bounds=get_default_sersic_bounds(), # Parameter bounds\n",
    ")"
   ]
  },
  {
   "cell_type": "markdown",
   "id": "8ec21f0f",
   "metadata": {},
   "source": [
    "To add `x_0` and `y_0` bounds to the default bounds, you can update the dictionary as you would a regular Python dictionary. You can add or update bounds by passing a Python dictionary to the `get_default_sersic_bounds` function as follows:"
   ]
  },
  {
   "cell_type": "code",
   "execution_count": null,
   "id": "fa21fd37",
   "metadata": {},
   "outputs": [],
   "source": [
    "bound_dict = get_default_sersic_bounds( {'x_0': (10, 30),  \n",
    "                                         'y_0': (10, 30)} )\n",
    "bound_dict"
   ]
  },
  {
   "cell_type": "markdown",
   "id": "80ec53bd",
   "metadata": {},
   "source": [
    "You can also directly update the model bounds as follows:"
   ]
  },
  {
   "cell_type": "code",
   "execution_count": null,
   "id": "98ab2630",
   "metadata": {},
   "outputs": [],
   "source": [
    "sersic_model.bounds.update({'x_0': (10, 30),  'y_0': (10, 30)})"
   ]
  },
  {
   "cell_type": "markdown",
   "id": "0d9fee69",
   "metadata": {},
   "source": [
    "## Making Compound Models (Combining Models)\n",
    "\n",
    "You can combine multiple models to form a compound model by adding, subtracting, multiplying, and dividing individual models. For example, we add the Sérsic model from the last section to itself to form a two-component Sérsic model (notice that the number of parameters double):"
   ]
  },
  {
   "cell_type": "code",
   "execution_count": null,
   "id": "e710d764",
   "metadata": {},
   "outputs": [],
   "source": [
    "compound_sersic_model = sersic_model + sersic_model"
   ]
  },
  {
   "cell_type": "code",
   "execution_count": null,
   "id": "1836103d",
   "metadata": {},
   "outputs": [],
   "source": [
    "from petrofit.modeling import print_model_params\n",
    "\n",
    "print_model_params(compound_sersic_model)"
   ]
  },
  {
   "cell_type": "markdown",
   "id": "f1fbe442",
   "metadata": {},
   "source": [
    "## Making a PSF Convolved Model \n",
    "\n",
    "The `petrofit` `PSFConvolvedModel2D` is a `Fittable2DModel` that adds PSF convolution and model to image sampling to `astropy` core models. `PSFConvolvedModel2D` makes an image of the underlying model and samples it onto a grid. The model image is then convolved with a PSF if one is provided. Since `PSFConvolvedModel2D` is a `Fittable2DModel`, it can be used to fit model images to data images. For example, we wrap an `astropy` `Sersic2D` model in this doc with  `PSFConvolvedModel2D`, which produces an oversampled and PSF convolved version of the Sersic profile at each iteration of the Levenberg-Marquardt fitting algorithm. **Note that `PSFModel` is deprecated and replaced by `PSFConvolvedModel2D`.**"
   ]
  },
  {
   "cell_type": "code",
   "execution_count": null,
   "id": "a1d501d2",
   "metadata": {},
   "outputs": [],
   "source": [
    "############\n",
    "# Load PSF #\n",
    "############\n",
    "\n",
    "from astropy.io import fits\n",
    "\n",
    "# Load PSF image (2D array)\n",
    "PSF = fits.getdata('data/f105w_psf.fits.gz')\n",
    "\n",
    "# Normalize PSF \n",
    "PSF = PSF / PSF.sum()\n",
    "\n",
    "# Note that the PSF shape is odd on all sides\n",
    "print(\"PSF Shape = {}\".format(PSF.shape))\n",
    "\n",
    "# Plot PSF and use vmax and vmin to show difraction spikes\n",
    "plt.imshow(PSF, vmin=0, vmax=PSF.std()/10)\n",
    "plt.title(\"PSF Image\")\n",
    "plt.xlabel(\"Pixels\")\n",
    "plt.ylabel(\"Pixels\")\n",
    "plt.show()"
   ]
  },
  {
   "cell_type": "code",
   "execution_count": null,
   "id": "0ff9fa9f",
   "metadata": {},
   "outputs": [],
   "source": [
    "#######################\n",
    "# PSFConvolvedModel2D #\n",
    "#######################\n",
    "\n",
    "from petrofit.modeling import PSFConvolvedModel2D\n",
    "\n",
    "psf_sersic_model = PSFConvolvedModel2D(sersic_model, psf=PSF, oversample=4)"
   ]
  },
  {
   "cell_type": "markdown",
   "id": "a308c0df",
   "metadata": {},
   "source": [
    "## Converting Models to Images\n",
    "\n",
    "To convert any 2D model (Astropy or PetroFit) to an image use the `model_to_image` function."
   ]
  },
  {
   "cell_type": "code",
   "execution_count": null,
   "id": "fbf6b956",
   "metadata": {},
   "outputs": [],
   "source": [
    "from petrofit.modeling import model_to_image\n",
    "\n",
    "# Size of model image\n",
    "size = 40\n",
    "\n",
    "# sersic model image\n",
    "model_image = model_to_image(model=sersic_model, size=size)\n",
    "\n",
    "# PSF convolved model image \n",
    "psf_model_image = model_to_image(model=psf_sersic_model, size=size)"
   ]
  },
  {
   "cell_type": "markdown",
   "id": "39f102fe",
   "metadata": {},
   "source": [
    "Plot model image"
   ]
  },
  {
   "cell_type": "code",
   "execution_count": null,
   "id": "6ca12c73",
   "metadata": {
    "scrolled": false
   },
   "outputs": [],
   "source": [
    "fig, axs = plt.subplots(1,2, figsize=(15,7.5))\n",
    "\n",
    "plt.sca(axs[0])\n",
    "plt.imshow(model_image, vmin=vmin, vmax=vmax)\n",
    "plt.title('Sérsic Model Image (n=4)')\n",
    "plt.xlabel(\"Pixels\")\n",
    "plt.ylabel(\"Pixels\")\n",
    "\n",
    "plt.sca(axs[1])\n",
    "plt.imshow(psf_model_image, vmin=vmin, vmax=vmax)\n",
    "plt.title('PSF Convolved Sérsic Model Image (n=4)')\n",
    "plt.xlabel(\"Pixels\")\n",
    "plt.ylabel(\"Pixels\")\n",
    "plt.show()"
   ]
  },
  {
   "cell_type": "markdown",
   "id": "5777eea6",
   "metadata": {},
   "source": [
    "## Fitting Model to Image\n",
    "\n",
    "We first define a model with initial guesses as follows:"
   ]
  },
  {
   "cell_type": "code",
   "execution_count": null,
   "id": "462d0fd6",
   "metadata": {},
   "outputs": [],
   "source": [
    "sersic_model = models.Sersic2D(\n",
    "\n",
    "        amplitude=0.1, # Intensity at r_eff\n",
    "        r_eff=10, # Effective or half-lilght radius\n",
    "        n=1, # Sersic index\n",
    "        x_0=20, # center of model in the x direction\n",
    "        y_0=20, # center of model in the y direction\n",
    "        ellip=0.1, # Ellipticity\n",
    "        theta=0.0, # Rotation angle in radians, counterclockwise from the positive x-axis.\n",
    "    \n",
    "        bounds=get_default_sersic_bounds({'x_0': (10, 30),  'y_0': (10, 30)}), # Parameter bounds\n",
    ")\n",
    "\n",
    "psf_sersic_model = PSFConvolvedModel2D(sersic_model, psf=PSF, oversample=4)"
   ]
  },
  {
   "cell_type": "markdown",
   "id": "819ecbba",
   "metadata": {},
   "source": [
    "Before we fit the image, we compute the weights of each pixel using rms data as follows (please note that weights are optional and set to `None` by default):"
   ]
  },
  {
   "cell_type": "code",
   "execution_count": null,
   "id": "3a3a82c6",
   "metadata": {},
   "outputs": [],
   "source": [
    "fitting_weights = 1 / cutout_rms.data "
   ]
  },
  {
   "cell_type": "markdown",
   "id": "6ed84fb9",
   "metadata": {},
   "source": [
    "Use the `fit_model` function to fit 2D models to images as follows:"
   ]
  },
  {
   "cell_type": "code",
   "execution_count": null,
   "id": "1f7261ad",
   "metadata": {},
   "outputs": [],
   "source": [
    "%%time\n",
    "\n",
    "from petrofit.modeling import fit_model\n",
    "\n",
    "fitted_model, fitter = fit_model(\n",
    "    image=cutout_image.data, \n",
    "    model=psf_sersic_model,\n",
    "    weights=fitting_weights, \n",
    "    maxiter=10000,\n",
    "    epsilon=1.4901161193847656e-08,\n",
    "    acc=1e-09,\n",
    ")"
   ]
  },
  {
   "cell_type": "markdown",
   "id": "9ad84ae6",
   "metadata": {},
   "source": [
    "Convert the fitted model into an image"
   ]
  },
  {
   "cell_type": "code",
   "execution_count": null,
   "id": "f64c5cf0",
   "metadata": {},
   "outputs": [],
   "source": [
    "from petrofit.modeling import plot_fit\n",
    "\n",
    "axs, model_image, residual_image = plot_fit(fitted_model, cutout_image, return_images=True,\n",
    "                                            vmax=vmax, vmin=vmin, figsize=[24, 12])\n",
    "\n",
    "for ax in axs:\n",
    "    ax.set_xlabel('Pixels')\n",
    "    ax.set_ylabel('Pixels')\n",
    "    \n",
    "plt.show()"
   ]
  },
  {
   "cell_type": "markdown",
   "id": "92619d47",
   "metadata": {},
   "source": [
    "## Fitting Multiple Sources\n",
    "\n",
    "If the locations of the sources are known, one can fit all sources at the same time by creating a compound model. Note that `x_0` and `y_0` are known beforehand using photometric centroids. Below, a compound model of 3 Sérsic components is defined and the original image is fit (i.e not the cutout we have been working with)."
   ]
  },
  {
   "cell_type": "code",
   "execution_count": null,
   "id": "fdd363e4",
   "metadata": {},
   "outputs": [],
   "source": [
    "# Center elliptical galaxy we have been fitting:\n",
    "galaxy_model_1 = models.Sersic2D(\n",
    "\n",
    "        amplitude=0.1, # Intensity at r_eff\n",
    "        r_eff=10, # Effective or half-lilght radius\n",
    "        n=1.7384901, # Sersic index\n",
    "        x_0=99.97722657736085, # center of model in the x direction\n",
    "        y_0=99.12324178530918, # center of model in the y direction\n",
    "        ellip=0.1, # Ellipticity\n",
    "        theta=0.0, # Rotation angle in radians, counterclockwise from the positive x-axis.\n",
    "\n",
    "        bounds=get_default_sersic_bounds(), # Parameter bounds\n",
    ") \n",
    "\n",
    "# Football shaped galaxy \n",
    "galaxy_model_2 = models.Sersic2D(\n",
    "\n",
    "        amplitude=0.1, # Intensity at r_eff\n",
    "        r_eff=10, # Effective or half-lilght radius\n",
    "        n=1, # Sersic index\n",
    "        x_0=138.56315299695075, # center of model in the x direction\n",
    "        y_0=89.27757468116197, # center of model in the y direction\n",
    "        ellip=0.7, # Ellipticity\n",
    "        theta=0.7, # Rotation angle in radians, counterclockwise from the positive x-axis.\n",
    "\n",
    "        bounds=get_default_sersic_bounds(), # Parameter bounds\n",
    ")\n",
    "\n",
    "# Large galaxy near the bottom corner \n",
    "galaxy_model_3 = models.Sersic2D(\n",
    "\n",
    "        amplitude=0.1, # Intensity at r_eff\n",
    "        r_eff=10, # Effective or half-lilght radius\n",
    "        n=1, # Sersic index\n",
    "        x_0=178.72302596615611, # center of model in the x direction\n",
    "        y_0=63.506754312433046\t, # center of model in the y direction\n",
    "        ellip=0.2, # Ellipticity\n",
    "        theta=0.0, # Rotation angle in radians, counterclockwise from the positive x-axis.\n",
    "\n",
    "        bounds=get_default_sersic_bounds(), # Parameter bounds\n",
    ") "
   ]
  },
  {
   "cell_type": "markdown",
   "id": "b211ac6c",
   "metadata": {},
   "source": [
    "Make compound PSF model as follows:"
   ]
  },
  {
   "cell_type": "code",
   "execution_count": null,
   "id": "780fef6e",
   "metadata": {},
   "outputs": [],
   "source": [
    "all_galaxies_model = galaxy_model_1 + galaxy_model_2 + galaxy_model_3\n",
    "\n",
    "all_galaxies_psf_model = PSFConvolvedModel2D(all_galaxies_model, psf=PSF)"
   ]
  },
  {
   "cell_type": "markdown",
   "id": "4c368d95",
   "metadata": {},
   "source": [
    "Fit the model "
   ]
  },
  {
   "cell_type": "code",
   "execution_count": null,
   "id": "5fa15fd3",
   "metadata": {},
   "outputs": [],
   "source": [
    "%%time\n",
    "\n",
    "from petrofit.modeling import fit_model\n",
    "\n",
    "all_galaxies_fitted_model, fitter = fit_model(\n",
    "    image=image.data, \n",
    "    model=all_galaxies_psf_model,\n",
    "    weights=1/rms, # optional \n",
    "    maxiter=10000,\n",
    "    epsilon=1.4901161193847656e-08,\n",
    "    acc=1e-09,\n",
    ")"
   ]
  },
  {
   "cell_type": "code",
   "execution_count": null,
   "id": "bb2760ad",
   "metadata": {},
   "outputs": [],
   "source": [
    "plot_fit(all_galaxies_fitted_model, image, return_images=False,\n",
    "         vmax=vmax, vmin=vmin, figsize=[24, 12])\n",
    "plt.show()"
   ]
  },
  {
   "cell_type": "markdown",
   "id": "10207acc",
   "metadata": {},
   "source": [
    "Looks like the bottom corner galaxy is a spiral, let us add another component for the spiral and fit again:"
   ]
  },
  {
   "cell_type": "code",
   "execution_count": null,
   "id": "560572e8",
   "metadata": {},
   "outputs": [],
   "source": [
    "%%time\n",
    "\n",
    "# Redefine model with an extra component for galaxy 3 \n",
    "all_galaxies_model = galaxy_model_1 + galaxy_model_2 + galaxy_model_3 + galaxy_model_3\n",
    "\n",
    "# PSF model\n",
    "all_galaxies_psf_model = PSFConvolvedModel2D(all_galaxies_model, psf=PSF)\n",
    "\n",
    "# Fit the model\n",
    "all_galaxies_fitted_model, fitter = fit_model(\n",
    "    image=image.data, \n",
    "    model=all_galaxies_psf_model,\n",
    "    weights=1/rms, # optional\n",
    "    maxiter=10000,\n",
    "    epsilon=1.4901161193847656e-08,\n",
    "    acc=1e-09,\n",
    ")\n",
    "\n",
    "# Plot the fit\n",
    "plot_fit(all_galaxies_fitted_model, image, return_images=False,\n",
    "         vmax=vmax, vmin=vmin, figsize=[24, 12])\n",
    "plt.show()"
   ]
  },
  {
   "cell_type": "markdown",
   "id": "ed638cd8",
   "metadata": {},
   "source": [
    "## Fitting Image Backgrounds \n",
    "\n",
    "The `fit_background` function can be used to fit the background pixels using a 2D plane. It will sigma clip the pixels (sigma value provided by the user) and fit a 2D plane to the clipped image. Users can also provide their own 2D models."
   ]
  },
  {
   "cell_type": "code",
   "execution_count": null,
   "id": "76762285",
   "metadata": {},
   "outputs": [],
   "source": [
    "from petrofit.modeling import fit_background"
   ]
  },
  {
   "cell_type": "code",
   "execution_count": null,
   "id": "0a7f5fb5",
   "metadata": {},
   "outputs": [],
   "source": [
    "bg_model, fitter = fit_background(image, sigma=3.0)\n",
    "bg_image = model_to_image(bg_model, size=(image.shape[1], image.shape[0]))"
   ]
  },
  {
   "cell_type": "markdown",
   "id": "6cef5365",
   "metadata": {},
   "source": [
    "Plot backround"
   ]
  },
  {
   "cell_type": "code",
   "execution_count": null,
   "id": "d664f153",
   "metadata": {},
   "outputs": [],
   "source": [
    "fig, axs = plt.subplots(1,2)\n",
    "\n",
    "plt.sca(axs[0])\n",
    "plt.imshow(bg_image)\n",
    "plt.title(\"Background Image\")\n",
    "plt.xlabel(\"Pixels\")\n",
    "plt.ylabel(\"Pixels\")\n",
    "\n",
    "plt.sca(axs[1])\n",
    "plt.imshow(image.data - bg_image, vmin=vmin, vmax=vmax)\n",
    "plt.title(\"Background subtracted image\")\n",
    "plt.xlabel(\"Pixels\")\n",
    "plt.ylabel(\"Pixels\")\n",
    "plt.show()"
   ]
  },
  {
   "cell_type": "markdown",
   "id": "a9df1d7b",
   "metadata": {},
   "source": [
    "## Fitting a PSF With a Moffat Model\n",
    "\n",
    "In this example we fit the PSF itself, from [the section above](#Making-a-PSF-Convolved-Model), using an `astropy` 2D Moffat model (PSF convolution is not needed for such fits). We then use the model PSF to fit the cutout image from the [Making Cutouts section](#Making-Cutouts). We start by initializing a `Moffat2D` model:"
   ]
  },
  {
   "cell_type": "code",
   "execution_count": null,
   "id": "fbe03244",
   "metadata": {},
   "outputs": [],
   "source": [
    "moffat_model = models.Moffat2D(amplitude=1, x_0=25, y_0=25, gamma=1, alpha=1)"
   ]
  },
  {
   "cell_type": "markdown",
   "id": "693f7dae",
   "metadata": {},
   "source": [
    "Fit the model using ``fit_model``:"
   ]
  },
  {
   "cell_type": "code",
   "execution_count": null,
   "id": "0b8fa2d5",
   "metadata": {},
   "outputs": [],
   "source": [
    "%%time\n",
    "\n",
    "fitted_moffat_model, fitter = fit_model(\n",
    "    image=PSF, \n",
    "    model=moffat_model,\n",
    "    weights=None, # optional \n",
    "    maxiter=10000,\n",
    "    epsilon=1.4901161193847656e-08,\n",
    "    acc=1e-09,\n",
    ")"
   ]
  },
  {
   "cell_type": "markdown",
   "id": "5aaea2cc",
   "metadata": {},
   "source": [
    "Plot the fit and print out fitted parameters:"
   ]
  },
  {
   "cell_type": "code",
   "execution_count": null,
   "id": "db230d62",
   "metadata": {},
   "outputs": [],
   "source": [
    "psf_vmax = PSF.std()/10\n",
    "psf_vmin = -psf_vmax\n",
    "plot_fit(fitted_moffat_model, PSF, vmin=psf_vmin, vmax=psf_vmax, figsize=[24, 12])\n",
    "plt.show()\n",
    "\n",
    "print(\"Fitted Moffat Params:\")\n",
    "print_model_params(fitted_moffat_model)"
   ]
  },
  {
   "cell_type": "markdown",
   "id": "e002d052",
   "metadata": {},
   "source": [
    "Use the fitted Moffat model as a PSF and fit a galaxy:"
   ]
  },
  {
   "cell_type": "code",
   "execution_count": null,
   "id": "3db0accd",
   "metadata": {},
   "outputs": [],
   "source": [
    "# Make Moffat PSF \n",
    "moffat_model_psf = model_to_image(fitted_moffat_model, size=(51, 51))\n",
    "\n",
    "# Make a PSFConvolvedModel2D model with Moffat PSF \n",
    "moffat_psf_sersic_model = PSFConvolvedModel2D(\n",
    "    sersic_model, \n",
    "    psf=moffat_model_psf, # Moffat PSF \n",
    "    oversample=4\n",
    ")\n",
    "\n",
    "# Fit the galaxy cutout image\n",
    "fitted_moffat_psf_sersic_model, fitter = fit_model(\n",
    "    image=cutout_image.data, \n",
    "    model=moffat_psf_sersic_model,\n",
    "    weights=fitting_weights, # optional \n",
    "    maxiter=10000,\n",
    "    epsilon=1.4901161193847656e-08,\n",
    "    acc=1e-09,\n",
    ")\n",
    "\n",
    "plot_fit(fitted_moffat_psf_sersic_model, cutout_image.data, vmin=vmin, vmax=vmax, figsize=[24, 12])"
   ]
  },
  {
   "cell_type": "markdown",
   "id": "d93fc8d5",
   "metadata": {},
   "source": [
    "## Making a Photutils Source Catalog\n",
    "\n",
    "To make a Photutils source catalog, which can also be converted into a table, use the `make_catalog` wrapper as follows:"
   ]
  },
  {
   "cell_type": "code",
   "execution_count": null,
   "id": "4e459af0",
   "metadata": {},
   "outputs": [],
   "source": [
    "from petrofit.segmentation import make_catalog, plot_segments\n",
    "from astropy.stats import sigma_clipped_stats\n",
    "\n",
    "# Sigma clipped stats\n",
    "image_mean, image_median, image_stddev = sigma_clipped_stats(image.data, sigma=3)\n",
    "\n",
    "cat, segm, segm_deblend = make_catalog(\n",
    "    image=image.data,  # Input image\n",
    "    threshold=image_stddev*3,  # Detection threshold\n",
    "    deblend=True,  # Deblend sources?\n",
    "    kernel_size=3,  # Smoothing kernel size in pixels\n",
    "    fwhm=3,  # FWHM in pixels\n",
    "    npixels=4**2,  # Minimum number of pixels that make up a source\n",
    "    plot=True, vmax=vmax, vmin=vmin # Plotting params\n",
    ")"
   ]
  },
  {
   "cell_type": "markdown",
   "id": "62803414",
   "metadata": {},
   "source": [
    "Display sources catalog as table:"
   ]
  },
  {
   "cell_type": "code",
   "execution_count": null,
   "id": "9d638ef2",
   "metadata": {},
   "outputs": [],
   "source": [
    "cat.to_table()"
   ]
  },
  {
   "cell_type": "markdown",
   "id": "3f83da65",
   "metadata": {},
   "source": [
    "## Curve of Growth and Petrosian Radii\n",
    "\n",
    "This step in detailed in the [Photometry](./photometry_and_petrosian.ipynb#Photometry) and [Petrosian](./photometry_and_petrosian.ipynb#Petrosian) sections but we will do a simple example here. The first step is to pick a source from the catalog we made in the last step:"
   ]
  },
  {
   "cell_type": "code",
   "execution_count": null,
   "id": "25f08e87",
   "metadata": {},
   "outputs": [],
   "source": [
    "source = cat[6]\n",
    "\n",
    "# Photutils cutout of the source\n",
    "# Not to be confused with the cutout we made\n",
    "plt.imshow(source.data, vmin=vmin, vmax=vmax)\n",
    "plt.show()"
   ]
  },
  {
   "cell_type": "markdown",
   "id": "b56fb3d1",
   "metadata": {},
   "source": [
    "Now we use PetroFit `source_photometry` to compute the curve of growth"
   ]
  },
  {
   "cell_type": "code",
   "execution_count": null,
   "id": "bc926566",
   "metadata": {},
   "outputs": [],
   "source": [
    "from petrofit.photometry import source_photometry\n",
    "from petrofit.photometry import make_radius_list\n",
    "\n",
    "r_list = make_radius_list(\n",
    "    max_pix=50, # Max pixel to go up to\n",
    "    n=50 # the number of radii to produce\n",
    ")\n",
    "\n",
    "# Photomerty\n",
    "flux_arr, area_arr, error_arr = source_photometry(\n",
    "\n",
    "    # Inputs\n",
    "    source, # Source (`photutils.segmentation.catalog.SourceCatalog`)\n",
    "    image.data, # Image as 2D array\n",
    "    segm_deblend, # Deblended segmentation map of image\n",
    "    r_list, # list of aperture radii\n",
    "\n",
    "    # Options\n",
    "    cutout_size=max(r_list)*2, # Cutout out size, set to double the max radius\n",
    "    bkg_sub=True, # Subtract background\n",
    "    sigma=3, sigma_type='clip', # Fit a 2D plane to pixels within 3 sigma of the mean\n",
    "    plot=True, vmax=vmax, vmin=vmin, # Show plot with max and min defined above\n",
    ")\n",
    "plt.show()"
   ]
  },
  {
   "cell_type": "markdown",
   "id": "24552d18",
   "metadata": {},
   "source": [
    "Now we have a radius list (`r_list`) and a corresponding enclosed flux list (`flux_arr`), we can plot the curve of growth and initialize a `Petrosian` profile"
   ]
  },
  {
   "cell_type": "code",
   "execution_count": null,
   "id": "c83c5aa8",
   "metadata": {},
   "outputs": [],
   "source": [
    "plt.plot(r_list, flux_arr, linewidth=3, marker='o')\n",
    "\n",
    "plt.title(\"Curve of Growth\")\n",
    "plt.xlabel(\"Radius R [Pix]\")\n",
    "plt.ylabel(\"$L(<R)$ [{}]\".format(image.unit))\n",
    "plt.show()"
   ]
  },
  {
   "cell_type": "markdown",
   "id": "47564b75",
   "metadata": {},
   "source": [
    "We now define the `Petrosian` using the curve of growth arrays and inspect various radii:"
   ]
  },
  {
   "cell_type": "code",
   "execution_count": null,
   "id": "b8ed418f",
   "metadata": {},
   "outputs": [],
   "source": [
    "from petrofit.petrosian import Petrosian\n",
    "\n",
    "p = Petrosian(r_list, area_arr, flux_arr)\n",
    "\n",
    "print(p.r_half_light, p.r_total_flux, p.r_petrosian, p.c2080)"
   ]
  },
  {
   "cell_type": "markdown",
   "id": "832dd4c0",
   "metadata": {},
   "source": [
    "The radii can be plotted as follows:"
   ]
  },
  {
   "cell_type": "code",
   "execution_count": null,
   "id": "f27be20f",
   "metadata": {},
   "outputs": [],
   "source": [
    "# Plot Petrosian\n",
    "p.plot(plot_r=True)\n",
    "plt.show()"
   ]
  },
  {
   "cell_type": "code",
   "execution_count": null,
   "id": "ecb8c55f",
   "metadata": {},
   "outputs": [],
   "source": [
    "# Plot radii over image \n",
    "from petrofit.segmentation import get_source_position, get_source_elong, get_source_theta\n",
    "\n",
    "# Get shape and pixel location from source\n",
    "position = get_source_position(source)\n",
    "elong = get_source_elong(source)\n",
    "theta = get_source_theta(source)\n",
    "\n",
    "# Plot radii \n",
    "p.imshow(position=position, elong=elong, theta=theta, lw=1.25)\n",
    "\n",
    "# Plot image \n",
    "plt.imshow(image.data, vmax=vmax, vmin=vmin)\n",
    "\n",
    "plt.title('Petrosian Radii')\n",
    "plt.xlabel(\"Pixels\")\n",
    "plt.ylabel(\"Pixels\")\n",
    "plt.legend()\n",
    "plt.show()"
   ]
  }
 ],
 "metadata": {
  "kernelspec": {
   "display_name": "Python 3 (ipykernel)",
   "language": "python",
   "name": "python3"
  },
  "language_info": {
   "codemirror_mode": {
    "name": "ipython",
    "version": 3
   },
   "file_extension": ".py",
   "mimetype": "text/x-python",
   "name": "python",
   "nbconvert_exporter": "python",
   "pygments_lexer": "ipython3",
   "version": "3.9.0"
  }
 },
 "nbformat": 4,
 "nbformat_minor": 5
}
