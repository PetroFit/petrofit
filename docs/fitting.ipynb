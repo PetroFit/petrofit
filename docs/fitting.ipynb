{
 "cells": [
  {
   "cell_type": "markdown",
   "id": "sporting-bunch",
   "metadata": {},
   "source": [
    "# Fitting Single Sources"
   ]
  },
  {
   "cell_type": "markdown",
   "id": "characteristic-orleans",
   "metadata": {},
   "source": [
    "## Loading Example Data\n",
    "\n",
    "The following data is a cutout of a bright galaxy in Abell-2744. The original data was aquired by the [Hubble Frontier Fields](https://frontierfields.org) team via the WFC3 instrument (`F105W` filter) and can be dirctly downloaded [here](https://archive.stsci.edu/pub/hlsp/frontier/abell2744/images/hst/v1.0/hlsp_frontier_hst_wfc3-60mas_abell2744_f105w_v1.0_drz.fits). We also use a star from the field as a PSF model. \n",
    "\n",
    "We first use `astropy`'s ``CCDData`` to load the example data and visualize it through `matplotlib`."
   ]
  },
  {
   "cell_type": "code",
   "execution_count": null,
   "id": "champion-microphone",
   "metadata": {},
   "outputs": [],
   "source": [
    "from astropy.nddata import CCDData\n",
    "\n",
    "image = CCDData.read('data/abell_2744_cd_galaxy_f105w.fits.gz')"
   ]
  },
  {
   "cell_type": "code",
   "execution_count": null,
   "id": "automotive-currency",
   "metadata": {
    "scrolled": false
   },
   "outputs": [],
   "source": [
    "import numpy as np\n",
    "\n",
    "%matplotlib inline\n",
    "from matplotlib import pyplot as plt\n",
    "\n",
    "plt.rcParams['figure.figsize'] = [10, 10]\n",
    "plt.rcParams['image.origin'] = 'lower'\n",
    "\n",
    "vmax = 0.05 # Use the image std as max and min of all plots \n",
    "vmin = - vmax \n",
    "\n",
    "plt.imshow(image.data, vmin=vmin, vmax=vmax)\n",
    "plt.title(\"Galaxy in Abell 2744\")\n",
    "plt.xlabel(\"Pixels\")\n",
    "plt.ylabel(\"Pixels\")\n",
    "plt.show()"
   ]
  },
  {
   "cell_type": "markdown",
   "id": "moderate-proceeding",
   "metadata": {},
   "source": [
    "Load PSF and normalize."
   ]
  },
  {
   "cell_type": "code",
   "execution_count": null,
   "id": "genetic-premium",
   "metadata": {},
   "outputs": [],
   "source": [
    "from astropy.io import fits\n",
    "\n",
    "PSF = fits.getdata('data/f105w_psf.fits.gz')\n",
    "PSF = PSF / PSF.sum()\n",
    "\n",
    "plt.imshow(PSF, vmin=0, vmax=PSF.std()/10)"
   ]
  },
  {
   "cell_type": "markdown",
   "id": "vocational-province",
   "metadata": {},
   "source": [
    "## Compute Image Stats \n",
    "\n",
    "We will use the sigma clipped std as a threshold at the segmentation and deblending steps.\n"
   ]
  },
  {
   "cell_type": "code",
   "execution_count": null,
   "id": "handled-regression",
   "metadata": {},
   "outputs": [],
   "source": [
    "from astropy.stats import sigma_clipped_stats\n",
    "\n",
    "image_mean, image_median, image_stddev = sigma_clipped_stats(image.data, sigma=1)"
   ]
  },
  {
   "cell_type": "markdown",
   "id": "elementary-command",
   "metadata": {},
   "source": [
    "## Segmentation, Deblending and Catalog \n",
    "\n",
    "Here we identity sources in the input image.\n"
   ]
  },
  {
   "cell_type": "code",
   "execution_count": null,
   "id": "incorporated-cache",
   "metadata": {},
   "outputs": [],
   "source": [
    "from petrofit.segmentation import make_segments, deblend_segments, plot_segments\n",
    "from photutils.segmentation import SourceCatalog \n",
    "\n",
    "# Define detect threshold\n",
    "nsigma = np.ones_like(image.data)\n",
    "nsigma[:, :] = image_stddev\n",
    "\n",
    "# Define smoothing kernel\n",
    "kernel_size = 3\n",
    "fwhm = 3\n",
    "\n",
    "# Min Source size (area)\n",
    "npixels = 4**2\n",
    "\n",
    "# Make segmentation map\n",
    "segm = make_segments(image.data, nsigma=nsigma, \n",
    "                     kernel_size=kernel_size, \n",
    "                     fwhm=fwhm, npixels=npixels)\n",
    "\n",
    "# Deblend segmentation map\n",
    "segm_deblend = deblend_segments(image.data, segm, contrast=0.0, nlevels=50,\n",
    "                                kernel_size=kernel_size, \n",
    "                                fwhm=fwhm, npixels=npixels)\n",
    "\n",
    "# Make plots \n",
    "plot_segments(segm, image=image.data, vmax=vmax, vmin=vmin)\n",
    "plt.show()\n",
    "\n",
    "plot_segments(segm_deblend, image=image.data, vmax=vmax, vmin=vmin)\n",
    "plt.show()\n",
    "\n",
    "# Make catalog\n",
    "cat = SourceCatalog(image.data, segm_deblend, wcs=image.wcs)\n",
    "\n",
    "# Display source properties\n",
    "print(\"Num of Targets:\", len(cat))\n",
    "\n",
    "# Convert to table\n",
    "cat_table = cat.to_table()\n",
    "\n",
    "cat_table[:10]"
   ]
  },
  {
   "cell_type": "markdown",
   "id": "present-liberty",
   "metadata": {},
   "source": [
    "## Single Source Photometry \n",
    "\n",
    "The galaxy we are interested in fitting turns out to be the largest one in the image so we select that source to construct a curve of growth for it. We then define a radius list for the aperture photometry. Once `r_list` is defined, we run the `source_photometry` step.\n"
   ]
  },
  {
   "cell_type": "code",
   "execution_count": null,
   "id": "moderate-agent",
   "metadata": {},
   "outputs": [],
   "source": [
    "from petrofit.photometry import order_cat\n",
    "from petrofit.photometry import make_radius_list\n",
    "\n",
    "# Sort and get the largest object in the catalog\n",
    "sorted_idx_list = order_cat(cat, key='area', reverse=True)\n",
    "idx = sorted_idx_list[0] # index 0 is largest \n",
    "source = cat[idx]  # get source from the catalog \n",
    "\n",
    "\n",
    "r_list = make_radius_list(\n",
    "    max_pix=250, # Max pixel to go up to\n",
    "    n=100 # the number of radii to produce \n",
    ")\n",
    "\n",
    "print(len(r_list))"
   ]
  },
  {
   "cell_type": "code",
   "execution_count": null,
   "id": "complicated-underground",
   "metadata": {},
   "outputs": [],
   "source": [
    "from petrofit.photometry import source_photometry\n",
    "\n",
    "# Photomerty \n",
    "flux_arr, area_arr, error_arr = source_photometry(\n",
    "    \n",
    "    # Inputs \n",
    "    source, # Source (`photutils.segmentation.catalog.SourceCatalog`)\n",
    "    image.data, # Image as 2D array \n",
    "    segm_deblend, # Deblended segmentation map of image\n",
    "    r_list, # list of aperture radii  \n",
    "    \n",
    "    # Options \n",
    "    cutout_size=max(r_list)*2, # Cutout out size, set to double the max radius  \n",
    "    bkg_sub=True, # Subtract background  \n",
    "    sigma=1, sigma_type='clip', # Fit a 2D plane to pixels within 1 sigma of the mean\n",
    "    plot=True, vmax=vmax, vmin=vmin, # Show plot with max and min defined above\n",
    ")\n",
    "plt.show()"
   ]
  },
  {
   "cell_type": "markdown",
   "id": "extra-conditions",
   "metadata": {},
   "source": [
    "## Estimating  Sersic Parameters \n",
    "\n",
    "### Center and Shape \n",
    "\n",
    "We estimate the center of the source (max pixel) and the elliptical parameters from the `SourceCatalog` object using helper functions.\n"
   ]
  },
  {
   "cell_type": "code",
   "execution_count": null,
   "id": "duplicate-location",
   "metadata": {},
   "outputs": [],
   "source": [
    "from petrofit.segmentation import get_source_ellip, get_source_theta, get_source_position\n",
    "\n",
    "image_x_0, image_y_0 = get_source_position(source)\n",
    "\n",
    "ellip = get_source_ellip(source)\n",
    "\n",
    "theta = get_source_theta(source)"
   ]
  },
  {
   "cell_type": "markdown",
   "id": "polish-zealand",
   "metadata": {},
   "source": [
    "### Sersic Index\n",
    "\n",
    "We use the Petrosian correction grid to estimate sersic index."
   ]
  },
  {
   "cell_type": "code",
   "execution_count": null,
   "id": "underlying-ethnic",
   "metadata": {},
   "outputs": [],
   "source": [
    "from petrofit.petrosian import Petrosian, PetrosianCorrection\n",
    "\n",
    "p = Petrosian(r_list, area_arr, flux_arr)\n",
    "\n",
    "pc = PetrosianCorrection(\"data/concentration_index_grid_f105w_60mas.yaml\")"
   ]
  },
  {
   "cell_type": "code",
   "execution_count": null,
   "id": "horizontal-stocks",
   "metadata": {},
   "outputs": [],
   "source": [
    "n = pc.estimate_n(\n",
    "    p.r_half_light,\n",
    "    p.concentration_index()[-1]\n",
    ")\n",
    "\n",
    "n"
   ]
  },
  {
   "cell_type": "markdown",
   "id": "protecting-vegetable",
   "metadata": {},
   "source": [
    "### Half Light Radius (r_eff)\n",
    "We use the corrected Petrosian half light to estimate the `r_eff` "
   ]
  },
  {
   "cell_type": "code",
   "execution_count": null,
   "id": "geographic-fever",
   "metadata": {},
   "outputs": [],
   "source": [
    "r_eff = p.r_half_light\n",
    "r_eff"
   ]
  },
  {
   "cell_type": "code",
   "execution_count": null,
   "id": "abroad-gibson",
   "metadata": {},
   "outputs": [],
   "source": [
    "corrected_epsilon = pc.estimate_epsilon(\n",
    "    p.r_half_light,\n",
    "    p.concentration_index()[-1]\n",
    "\n",
    ")\n",
    "\n",
    "corrected_p = Petrosian(r_list, area_arr, flux_arr, epsilon=corrected_epsilon)\n",
    "              \n",
    "r_eff = corrected_p.r_half_light\n",
    "r_eff"
   ]
  },
  {
   "cell_type": "markdown",
   "id": "miniature-nancy",
   "metadata": {},
   "source": [
    "r_total_flux is out of range so we use an epsilon that defines the last pixel as r_total_flux"
   ]
  },
  {
   "cell_type": "code",
   "execution_count": null,
   "id": "secret-howard",
   "metadata": {
    "scrolled": true
   },
   "outputs": [],
   "source": [
    "print(p.r_total_flux, corrected_p.r_total_flux)"
   ]
  },
  {
   "cell_type": "code",
   "execution_count": null,
   "id": "bound-stamp",
   "metadata": {},
   "outputs": [],
   "source": [
    "corrected_epsilon = r_list.max() / p.r_petrosian\n",
    "\n",
    "corrected_p = Petrosian(r_list, area_arr, flux_arr, epsilon=corrected_epsilon)\n",
    "              \n",
    "r_eff = corrected_p.r_half_light\n",
    "r_eff"
   ]
  },
  {
   "cell_type": "markdown",
   "id": "superior-ground",
   "metadata": {},
   "source": [
    "### Amplitude at r_eff\n",
    "\n",
    "We use photutils.isophote to fit find the flux at r_eff"
   ]
  },
  {
   "cell_type": "code",
   "execution_count": null,
   "id": "spare-mattress",
   "metadata": {},
   "outputs": [],
   "source": [
    "from photutils.isophote import EllipseGeometry, Ellipse\n",
    "\n",
    "g = EllipseGeometry(image_x_0, image_y_0, 1., ellip, theta)\n",
    "ellipse = Ellipse(image.data, geometry=g)\n",
    "\n",
    "iso = ellipse.fit_isophote(r_eff)\n",
    "\n",
    "amplitude = iso.intens\n",
    "amplitude"
   ]
  },
  {
   "cell_type": "markdown",
   "id": "significant-assurance",
   "metadata": {},
   "source": [
    "## Zoom and Mask Image"
   ]
  },
  {
   "cell_type": "code",
   "execution_count": null,
   "id": "caroline-balloon",
   "metadata": {},
   "outputs": [],
   "source": [
    "from astropy.nddata import Cutout2D\n",
    "from petrofit.segmentation import masked_segm_image\n",
    "cutout_size = 200\n",
    "\n",
    "masked_image = masked_segm_image(source, image.data, segm_deblend, fill=None, mask_background=False)\n",
    "\n",
    "fitting_image = Cutout2D(masked_image, (image_x_0, image_y_0), cutout_size)\n",
    "fitting_image_unmasked = Cutout2D(image, (image_x_0, image_y_0), cutout_size)\n",
    "\n",
    "\n",
    "x_0 = y_0 = cutout_size//2\n",
    "\n",
    "print(np.unravel_index(fitting_image.data.argmax(), fitting_image.data.shape))\n",
    "\n",
    "plt.imshow(fitting_image.data, vmin=0, vmax=image.data.std())\n",
    "plt.title(\"Galaxy in Abell 2744\")\n",
    "plt.xlabel(\"Pixels\")\n",
    "plt.ylabel(\"Pixels\")\n",
    "plt.show()"
   ]
  },
  {
   "cell_type": "markdown",
   "id": "reverse-treaty",
   "metadata": {},
   "source": [
    "## Create Model"
   ]
  },
  {
   "cell_type": "code",
   "execution_count": null,
   "id": "owned-isaac",
   "metadata": {},
   "outputs": [],
   "source": [
    "from astropy.modeling import models \n",
    "\n",
    "center_slack = 4\n",
    "\n",
    "sersic_model = models.Sersic2D(\n",
    "    \n",
    "        amplitude=amplitude,\n",
    "        r_eff=r_eff,\n",
    "        n=n,\n",
    "        x_0=x_0,\n",
    "        y_0=y_0,\n",
    "        ellip=ellip, \n",
    "        theta=theta,\n",
    "    \n",
    "        bounds = {\n",
    "            'amplitude': (0., None),\n",
    "            'r_eff': (0, None),\n",
    "            'n': (0, 10),\n",
    "            'ellip': (0, 1),\n",
    "            'theta': (-2*np.pi, 2*np.pi),\n",
    "            'x_0': (x_0 - center_slack/2, x_0 + center_slack/2),\n",
    "            'y_0': (y_0 - center_slack/2, y_0 + center_slack/2),\n",
    "        },\n",
    ")"
   ]
  },
  {
   "cell_type": "code",
   "execution_count": null,
   "id": "received-programming",
   "metadata": {},
   "outputs": [],
   "source": [
    "from petrofit.fitting.models import PSFModel\n",
    "\n",
    "psf_sersic_model = PSFModel.wrap(sersic_model, psf=PSF, oversample=('x_0', 'y_0', 20, 4))"
   ]
  },
  {
   "cell_type": "code",
   "execution_count": null,
   "id": "excited-string",
   "metadata": {},
   "outputs": [],
   "source": [
    "psf_sersic_model.fixed['psf_pa'] = True"
   ]
  },
  {
   "cell_type": "markdown",
   "id": "musical-shopping",
   "metadata": {},
   "source": [
    "## Fit the PSF Model"
   ]
  },
  {
   "cell_type": "code",
   "execution_count": null,
   "id": "standing-lancaster",
   "metadata": {},
   "outputs": [],
   "source": [
    "%%time\n",
    "\n",
    "from petrofit.fitting.fitting import fit_model\n",
    "\n",
    "fitted_model, _ = fit_model(\n",
    "    fitting_image.data, psf_sersic_model,\n",
    "    maxiter=10000,\n",
    "    epsilon=1.4901161193847656e-08,\n",
    "    acc=1e-09,\n",
    ")"
   ]
  },
  {
   "cell_type": "markdown",
   "id": "industrial-proof",
   "metadata": {},
   "source": [
    "## Generate Model Image"
   ]
  },
  {
   "cell_type": "code",
   "execution_count": null,
   "id": "verified-powell",
   "metadata": {},
   "outputs": [],
   "source": [
    "from petrofit.fitting.fitting import model_to_image\n",
    "\n",
    "fitted_image_size = fitting_image.data.shape[0]\n",
    "fitted_image_center = fitted_image_size // 2 \n",
    "\n",
    "fitted_model_image = model_to_image(fitted_image_center, fitted_image_center, fitted_image_size, fitted_model)"
   ]
  },
  {
   "cell_type": "code",
   "execution_count": null,
   "id": "grand-jewel",
   "metadata": {},
   "outputs": [],
   "source": [
    "fig, ax = plt.subplots(1, 3, figsize=[24, 12])\n",
    "\n",
    "ax[0].imshow(fitting_image_unmasked.data, vmin=vmin, vmax=vmax)\n",
    "ax[0].set_title(\"Data\")\n",
    "\n",
    "ax[1].imshow(fitted_model_image, vmin=vmin, vmax=vmax)\n",
    "ax[1].set_title(\"Model\")\n",
    "\n",
    "ax[2].imshow(fitting_image_unmasked.data - fitted_model_image, vmin=vmin, vmax=vmax)\n",
    "ax[2].set_title(\"Residual\")\n",
    "\n",
    "plt.show()"
   ]
  },
  {
   "cell_type": "markdown",
   "id": "critical-publicity",
   "metadata": {},
   "source": [
    "## Compare Estimated and Fitted Parameters"
   ]
  },
  {
   "cell_type": "code",
   "execution_count": null,
   "id": "express-attention",
   "metadata": {},
   "outputs": [],
   "source": [
    "from petrofit.fitting.utils import print_model_params\n",
    "\n",
    "print_model_params(fitted_model)"
   ]
  },
  {
   "cell_type": "code",
   "execution_count": null,
   "id": "intermediate-kidney",
   "metadata": {},
   "outputs": [],
   "source": [
    "assumptions = [\n",
    "    amplitude,\n",
    "    r_eff,\n",
    "    n,\n",
    "    x_0,\n",
    "    y_0,\n",
    "    ellip,\n",
    "    theta,\n",
    "    0 # psf_pa\n",
    "]\n",
    "\n",
    "print(\"fit\\tassum\\tparam_name\")\n",
    "for param_name, param_val, assumption in zip(fitted_model.param_names, fitted_model.parameters, assumptions):\n",
    "    print(\"{:0.2f}\\t{:0.2f}\\t{}\".format(param_val, assumption, param_name))"
   ]
  },
  {
   "cell_type": "code",
   "execution_count": null,
   "id": "bound-hearts",
   "metadata": {},
   "outputs": [],
   "source": []
  }
 ],
 "metadata": {
  "kernelspec": {
   "display_name": "Python 3",
   "language": "python",
   "name": "python3"
  },
  "language_info": {
   "codemirror_mode": {
    "name": "ipython",
    "version": 3
   },
   "file_extension": ".py",
   "mimetype": "text/x-python",
   "name": "python",
   "nbconvert_exporter": "python",
   "pygments_lexer": "ipython3",
   "version": "3.9.1"
  }
 },
 "nbformat": 4,
 "nbformat_minor": 5
}
