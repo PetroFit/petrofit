{
 "cells": [
  {
   "cell_type": "markdown",
   "id": "sonic-house",
   "metadata": {},
   "source": [
    "# Photometry\n",
    "\n",
    "In order to measure Petrosian properties of galaxies, we must fist measure the photometry to construct a curve of growth. We use a set of concentric apertures with varying radii to measure the flux and construct the curve of growth. To achieve an accurate measurement, we must first identify sources in an image, mask neighboring galaxies and correct for background noise."
   ]
  },
  {
   "cell_type": "markdown",
   "id": "brief-monday",
   "metadata": {},
   "source": [
    "## Loading Example Data\n",
    "\n",
    "The following data is a cutout of a bright galaxy in Abell-2744. The original data was aquired by the [Hubble Frontier Fields](https://frontierfields.org) team via the WFC3 instrument (`F105W` filter) and can be dirctly downloaded [here](https://archive.stsci.edu/pub/hlsp/frontier/abell2744/images/hst/v1.0/hlsp_frontier_hst_wfc3-60mas_abell2744_f105w_v1.0_drz.fits). \n",
    "\n",
    "We first use `astropy`'s ``CCDData`` to load the example data and visualize it through `matplotlib`."
   ]
  },
  {
   "cell_type": "code",
   "execution_count": null,
   "id": "polyphonic-mistake",
   "metadata": {},
   "outputs": [],
   "source": [
    "from astropy.nddata import CCDData\n",
    "\n",
    "image = CCDData.read('data/abell_2744_cd_galaxy_f105w.fits.gz')"
   ]
  },
  {
   "cell_type": "code",
   "execution_count": null,
   "id": "increased-vietnamese",
   "metadata": {},
   "outputs": [],
   "source": [
    "%matplotlib inline\n",
    "from matplotlib import pyplot as plt\n",
    "\n",
    "plt.rcParams['figure.figsize'] = [10, 10]\n",
    "plt.rcParams['image.origin'] = 'lower'\n",
    "\n",
    "vmax = image.data.std() # Use the image std as max and min of all plots \n",
    "vmin = - vmax \n",
    "\n",
    "plt.imshow(image.data, vmin=0, vmax=image.data.std())\n",
    "plt.title(\"Galaxy in Abell 2744\")\n",
    "plt.xlabel(\"Pixels\")\n",
    "plt.ylabel(\"Pixels\")\n",
    "plt.show()"
   ]
  },
  {
   "cell_type": "markdown",
   "id": "quiet-click",
   "metadata": {},
   "source": [
    "### Estimate data noise at dark area"
   ]
  },
  {
   "cell_type": "markdown",
   "id": "extraordinary-width",
   "metadata": {},
   "source": [
    "In this section we estimate the noise levels in the image. This estimate is used as a threshold for the detection and segmentation step. To estimate the background noise, we find a dark region in the image (in this case the corner of the image), and make a cutout using `Cutout2D`. We then compute the stats for that cutout region.\n"
   ]
  },
  {
   "cell_type": "code",
   "execution_count": null,
   "id": "spiritual-academy",
   "metadata": {},
   "outputs": [],
   "source": [
    "from astropy.nddata import Cutout2D\n",
    "\n",
    "# Estimate data noise at dark area\n",
    "# --------------------------------\n",
    "noise_cutout_pos = (350, 50)\n",
    "noise_cutout_size = 50 \n",
    "noise_cutout = Cutout2D(image, noise_cutout_pos, noise_cutout_size)\n",
    "\n",
    "noise_mean = noise_cutout.data.mean()\n",
    "noise_sigma = noise_cutout.data.std()\n",
    "noise_3_sigma = noise_sigma * 3.\n",
    "noise_8_sigma = noise_sigma * 8.\n",
    "\n",
    "print(noise_mean, noise_3_sigma, noise_8_sigma)\n",
    "\n",
    "# Plot image and noise distribution\n",
    "# ---------------------------------\n",
    "plt.imshow(noise_cutout.data, vmax=noise_mean+noise_3_sigma, vmin=noise_mean-noise_3_sigma)\n",
    "plt.title(\"Dark Patch\")\n",
    "plt.xlabel(\"Pixels\")\n",
    "plt.ylabel(\"Pixels\")\n",
    "plt.show()\n",
    "\n",
    "n, bins, patches = plt.hist(noise_cutout.data.flatten(), bins=35, align='left', color='black')\n",
    "plt.plot(bins[:-1], n, c='r', linewidth=3)\n",
    "plt.axvline(noise_mean, label=\"noise_mean\", linestyle=\"--\")\n",
    "\n",
    "plt.xlabel('Flux Bins [{}]'.format(str(image.unit)))\n",
    "plt.ylabel('Count')\n",
    "plt.title('Noise Histogram')\n",
    "plt.legend()\n",
    "\n",
    "plt.show()"
   ]
  },
  {
   "cell_type": "markdown",
   "id": "ranging-privilege",
   "metadata": {},
   "source": [
    "## Segmentation and Deblending\n",
    "\n",
    "Now that we have the image loaded, we need to identfiy the sources in the image. To do this, we use `photutils` and the wrappers in `petrofit`. We first start by defining the detection threshold and making a 2D array (the same size as the image), with all values set to the threshold. We select this value to be the data standard dev or `image_std` computed in the last section."
   ]
  },
  {
   "cell_type": "code",
   "execution_count": null,
   "id": "spread-tampa",
   "metadata": {},
   "outputs": [],
   "source": [
    "import numpy as np\n",
    "\n",
    "# Define detect threshold\n",
    "nsigma = np.ones_like(image.data)\n",
    "nsigma[:, :] = noise_8_sigma"
   ]
  },
  {
   "cell_type": "markdown",
   "id": "interstate-paradise",
   "metadata": {},
   "source": [
    "Next, we define the parameters of a Gaussian kernel that is used to smooth the image before segmentation. The `kernel_size` defines the dimensions of the smoothing kernel and `fwhm` which is used to compute the `sigma` value of the Gaussian distribution. The `fwhm` is used to compute the `sigma` value as follows: \n",
    "\n",
    "```\n",
    "sigma = fwhm * gaussian_fwhm_to_sigma\n",
    "kernel = Gaussian2DKernel(sigma, x_size=kernel_size, y_size=kernel_size)\n",
    "```"
   ]
  },
  {
   "cell_type": "code",
   "execution_count": null,
   "id": "through-coalition",
   "metadata": {},
   "outputs": [],
   "source": [
    "# Define smoothing kernel\n",
    "kernel_size = 3\n",
    "fwhm = 3"
   ]
  },
  {
   "cell_type": "markdown",
   "id": "standard-information",
   "metadata": {},
   "source": [
    "We also have to define the number of pixels that make up the smallest object. `npixels` is the number of connected pixels, each greater than threshold value, that an object must have to be detected. `npixels` must be a positive integer."
   ]
  },
  {
   "cell_type": "code",
   "execution_count": null,
   "id": "turkish-coral",
   "metadata": {},
   "outputs": [],
   "source": [
    "npixels = 4**2"
   ]
  },
  {
   "cell_type": "markdown",
   "id": "concerned-exercise",
   "metadata": {},
   "source": [
    "### Segmentation\n",
    "\n",
    "Now we can make the segmentation map of the image using a `photutils` wrapper function and store the results in `segm`. We also use the `plot_segments` function to plot the segmentation map over the image."
   ]
  },
  {
   "cell_type": "code",
   "execution_count": null,
   "id": "average-apache",
   "metadata": {},
   "outputs": [],
   "source": [
    "from petrofit.segmentation import make_segments, plot_segments\n",
    "\n",
    "# Make segmentation map\n",
    "segm = make_segments(image.data, nsigma=nsigma, \n",
    "                     kernel_size=kernel_size, \n",
    "                     fwhm=fwhm, npixels=npixels)\n",
    "\n",
    "# Make plots \n",
    "plot_segments(segm, image=image.data, vmax=vmax, vmin=vmin)\n",
    "plt.show()"
   ]
  },
  {
   "cell_type": "markdown",
   "id": "marked-validity",
   "metadata": {},
   "source": [
    "### Deblending\n",
    "\n",
    "As you can see, the segmentation resulted in the identification sources but the sources at the center  were classified as a single object because they have interconnecting pixels that are above the threshold. To further distinguish the sources, we use `photutils` to deblend the sources into individual galaxies. The `contrast` parameter is the fraction of the total (blended) source flux that a local peak must have (at any one of the multi-thresholds) to be considered as a separate object and `nlevels` is the number of multi-thresholding levels to use. We again use a wrapper for `photutils` to do this: "
   ]
  },
  {
   "cell_type": "code",
   "execution_count": null,
   "id": "expensive-things",
   "metadata": {},
   "outputs": [],
   "source": [
    "from petrofit.segmentation import deblend_segments\n",
    "\n",
    "# Deblend segmentation map\n",
    "segm_deblend = deblend_segments(image.data, segm, contrast=0, nlevels=50,\n",
    "                                kernel_size=kernel_size, \n",
    "                                fwhm=fwhm, npixels=npixels)\n",
    "# Make plots \n",
    "plot_segments(segm_deblend, image=image.data, vmax=vmax, vmin=vmin)\n",
    "plt.show()"
   ]
  },
  {
   "cell_type": "markdown",
   "id": "productive-selection",
   "metadata": {},
   "source": [
    "### Source Catalog\n",
    "\n",
    "Now that we have deblended the sourecs into individual sources. The next step is to create a source catalog that contains properties like `(xcentroid, ycentroid)`, `eccentricity` and `area`. To demonstrate the useful information in the catalog, we convert the `SourceCatalog` to an `astropy.table.Table` and display the first 10 objects."
   ]
  },
  {
   "cell_type": "code",
   "execution_count": null,
   "id": "distributed-frequency",
   "metadata": {},
   "outputs": [],
   "source": [
    "from photutils.segmentation import SourceCatalog \n",
    "\n",
    "# Make catalog\n",
    "cat = SourceCatalog(image.data, segm_deblend, wcs=image.wcs)\n",
    "\n",
    "# Display source properties\n",
    "print(\"Num of Targets:\", len(cat))\n",
    "\n",
    "# Convert to table\n",
    "cat_table = cat.to_table()\n",
    "\n",
    "cat_table[:10]"
   ]
  },
  {
   "cell_type": "markdown",
   "id": "capable-webster",
   "metadata": {},
   "source": [
    "## Photometry on Single Source"
   ]
  },
  {
   "cell_type": "markdown",
   "id": "severe-speaking",
   "metadata": {},
   "source": [
    "The purpose of this step is to perform aperture photometry to construct a curve of growth that we can use for the petrosian measurements. \n",
    "\n",
    "### Source Selection\n",
    "\n",
    "Now that we have the location, shapes and orientations of the targets, we can perform photometry on the sources. For this example, we will focus on the largest source. We have included a helper function `order_cat` that will produce a list of indices sorted by a key (default is 'area'). We use the `order_cat` function to identify the source with the largest area and perform photometry on its cutout."
   ]
  },
  {
   "cell_type": "code",
   "execution_count": null,
   "id": "english-comedy",
   "metadata": {},
   "outputs": [],
   "source": [
    "from petrofit.photometry import order_cat\n",
    "\n",
    "# Sort and get the largest object in the catalog\n",
    "sorted_idx_list = order_cat(cat, key='area', reverse=True)\n",
    "idx = sorted_idx_list[0] # index 0 is largest \n",
    "source = cat[idx]  # get source from the catalog "
   ]
  },
  {
   "cell_type": "markdown",
   "id": "fancy-region",
   "metadata": {},
   "source": [
    "### Aperture Radii \n",
    "To construct the curve of growth, we measure the photometry using circular and/or elliptical apertures of varying radii, that are concentric and centered on the source. Before we perform the photometry, we need to provide a list of radii that will be used to construct the circular and elliptical apertures. To achieve this, we have provided a helper function that takes in the max radius in pixels (`max_pix`) and the number radii (`n`). The function will return a list of radii by dividing the range `(max_pix/n, max_pix)` into n  equally spaced integers. "
   ]
  },
  {
   "cell_type": "code",
   "execution_count": null,
   "id": "international-counter",
   "metadata": {},
   "outputs": [],
   "source": [
    "from petrofit.photometry import make_radius_list\n",
    "\n",
    "r_list = make_radius_list(\n",
    "    max_pix=150, # Max pixel to go up to\n",
    "    n=50 # the number of radii to produce \n",
    ")\n",
    "\n",
    "print(repr(r_list))"
   ]
  },
  {
   "cell_type": "markdown",
   "id": "split-antique",
   "metadata": {},
   "source": [
    "### Photometry Calculation\n",
    "\n",
    "The `source_photometry` function is used to perform photometry on a single source (`photutils.segmentation.catalog.SourceCatalog`). In this example we provide the function with the source object, the raw image (note that this is the 2D array and not `CCDData`), segmentation from the last step (`SegmentationImage`) and the list of radii we made using `make_radius_list`. Given these parameters and the options below the function performs photometry as follows:\n",
    "\n",
    "- The positions (max value of source in pixels), elongation and position angle of the source is determined from the source object. The position will be used to center the apertures and the elongation and position angles will be used as parameters of the elliptical apertures. Each of the radii will be assigned an elliptical aperture with these parameters. \n",
    "\n",
    "\n",
    "- If `cutout_size` is defined, the code will use it to make a cutout of that size with the source centered. If the `cutout_size` is larger than the image or contains pixels outside the image, those pixels outside of the image are replaced by `np.nan`.\n",
    "\n",
    "\n",
    "- Once the `cutout_size` is determined, a cutout of the error map (if provided) and image is produced. Before the raw image is cutout, sources that are not the source of interest are masked using the segmentation map. The `mask_background` option gives us the ability to also mask pixels that are considered to be background pixels because they do not belong to any source’s segmentation. All masked pixels are replaced by `np.nan` and are not counted in the returned area array.  \n",
    "\n",
    "\n",
    "- If `bkg_sub` is set to true, a 2D plane is used to fit pixels that are below a specified sigma from the mean using the `petrofit.fitting.fitting.fit_plane` function. The sigma `sigma` value is used to determine noise pixels. Once the pixels above this value are masked, a 2D plane is fit to determine the background. The 2D plane model is then converted into an image and subtracted from the cutout of the target source. `sigma_type` is used to set how this `sigma` value will be used. The `sigma_type` options are `'clip'` and `'bound'`:\n",
    "    - ``'clip'`` (default): Uses `astropy.stats.sigma_clipping.sigma_clip` to clip at the provided `sigma` std value. Note that `sigma` in this case is the number of stds above the mean.\n",
    "    - ``'bound'`` : After computing the mean of the image, clip at `mean - sigma` and `mean + sigma`. Note that `sigma` in this case is a value and not the number of stds above the mean.\n",
    "\n",
    "\n",
    "- The resulting image (after being noise subtracted if `bkg_sub` is set to true) is passed to the `petrofit.photometry.photometry_step` which constructs the apertures and performs photometry. \n",
    "\n",
    "After calculating the photometry at each radius, three arrays are returned:\n",
    "\n",
    "* `flux_arr`: Photometric sum in aperture.\n",
    "\n",
    "* `area_arr`: Exact area of aperture.\n",
    "\n",
    "* `error_arr`: if error map is provided, error of measurements.\n",
    "\n"
   ]
  },
  {
   "cell_type": "code",
   "execution_count": null,
   "id": "accredited-graphics",
   "metadata": {},
   "outputs": [],
   "source": [
    "from petrofit.photometry import source_photometry\n",
    "\n",
    "# Photomerty \n",
    "flux_arr, area_arr, error_arr = source_photometry(\n",
    "    \n",
    "    # Inputs \n",
    "    source, # Source (`photutils.segmentation.catalog.SourceCatalog`)\n",
    "    image.data, # Image as 2D array \n",
    "    segm_deblend, # Deblended segmentation map of image\n",
    "    r_list, # list of aperture radii  \n",
    "    \n",
    "    # Options \n",
    "    cutout_size=max(r_list)*2, # Cutout out size, set to double the max radius  \n",
    "    bkg_sub=True, # Subtract background  \n",
    "    sigma=1, sigma_type='clip', # Fit a 2D plane to pixels within 1 sigma of the mean\n",
    "    plot=True, vmax=vmax, vmin=vmin, # Show plot with max and min defined above\n",
    ")\n",
    "plt.show()"
   ]
  },
  {
   "cell_type": "markdown",
   "id": "exotic-attitude",
   "metadata": {},
   "source": [
    "If `source_photometry`’s `plot` option is set to True, four plots are displayed: \n",
    "- The top left plot shows the cutout with the 2D plane background subtraction and the surrounding sources masked (replaced by `np.nan`).\n",
    "- The top right plot shows the curve of growth with increasing radius. The red lines represent the aperture radius.\n",
    "- The bottom two plots show the source profile sliced at the center of the image in the y and x direction respectively.\n"
   ]
  },
  {
   "cell_type": "markdown",
   "id": "preceding-arthritis",
   "metadata": {},
   "source": [
    "### Save Photometry Arrays\n",
    "\n",
    "There are many ways of saving the photometry results. For example adding the photometry to the source catalog with the radii as columns. One simple way to save the results for a single source is to save it as a `csv` file useing AstroPy `Table`. "
   ]
  },
  {
   "cell_type": "code",
   "execution_count": null,
   "id": "transparent-hydrogen",
   "metadata": {},
   "outputs": [],
   "source": [
    "from astropy.table import Table\n",
    "\n",
    "t = Table(\n",
    "    data=[r_list, flux_arr, area_arr, error_arr],\n",
    "    names=['r_list', 'flux_arr', 'area_arr', 'error_arr'],   \n",
    ")\n",
    "\n",
    "t.write('data/abell_2744_cd_galaxy_f105w_photometry.csv', overwrite=True)\n",
    "\n",
    "t[:10]"
   ]
  },
  {
   "cell_type": "markdown",
   "id": "smooth-faith",
   "metadata": {},
   "source": [
    "# Petrosian"
   ]
  },
  {
   "cell_type": "markdown",
   "id": "internal-virtue",
   "metadata": {},
   "source": [
    "## Petrosian Radii\n",
    "\n",
    "PetroFit uses the curve of growth of a galaxy’s flux to compute its Petrosian properties such as Petrosian radius and concentration index."
   ]
  },
  {
   "cell_type": "markdown",
   "id": "passive-situation",
   "metadata": {},
   "source": [
    "### Construct Petrosian from Photometry\n",
    "\n",
    "In this section we use photometric values stored in flux, aperture area and radii arrays to construct a `Petrosian` object. The following inputs are needed as inputs:\n",
    "\n",
    "* `r_list`: Array of radii in pixels.\n",
    "\n",
    "* `area_list`: Array of aperture areas.\n",
    "\n",
    "* `flux_list` : Array of photometric flux values.\n",
    "\n",
    "This values should reprisent the curve of growth and can be computed by using the [PetroFit photometry tools](#Photometry).\n",
    "\n",
    "The user can also specify the `eta` and `epsilon` values.\n",
    "\n",
    "* `eta` (default=0.2) is the petrosian value which defines the petrosian radius.\n",
    "\n",
    "\n",
    "* `epsilon` (default=2) is used to determine the radius of total flux.\n",
    "\n",
    "    * `r_total_flux = r_petrosian * epsilon`"
   ]
  },
  {
   "cell_type": "code",
   "execution_count": null,
   "id": "oriental-speech",
   "metadata": {},
   "outputs": [],
   "source": [
    "from petrofit.petrosian import Petrosian\n",
    "\n",
    "p = Petrosian(r_list, area_arr, flux_arr)"
   ]
  },
  {
   "cell_type": "markdown",
   "id": "empty-ocean",
   "metadata": {},
   "source": [
    "### Petrosian radius\n",
    "\n",
    "The Petrosian radius is defined as the radius at which the Petrosian profile reaches the Eta (`eta`, default=0.2) value."
   ]
  },
  {
   "cell_type": "code",
   "execution_count": null,
   "id": "north-toner",
   "metadata": {},
   "outputs": [],
   "source": [
    "p.r_petrosian # in pixels"
   ]
  },
  {
   "cell_type": "markdown",
   "id": "killing-calibration",
   "metadata": {},
   "source": [
    "### Petrosian total flux radius\n",
    "\n",
    "The Petrosian flux or total flux radius is the radius which ideally encloses all the flux of the galaxy. The Petrosian total flux radius is estimated by multiplying `r_petrosian` with `epsilon` (default=2). \n",
    "\n",
    "`r_total_flux = r_petrosian * epsilon`\n",
    "\n",
    "We can use the `r_total_flux_arcsec` function, by passing it a WCS object, to compute the total flux radius in arcsec."
   ]
  },
  {
   "cell_type": "code",
   "execution_count": null,
   "id": "dependent-honey",
   "metadata": {},
   "outputs": [],
   "source": [
    "p.r_total_flux # pixels"
   ]
  },
  {
   "cell_type": "code",
   "execution_count": null,
   "id": "democratic-science",
   "metadata": {},
   "outputs": [],
   "source": [
    "p.r_total_flux_arcsec(image.wcs) # arcsec"
   ]
  },
  {
   "cell_type": "markdown",
   "id": "activated-cameroon",
   "metadata": {},
   "source": [
    "### Petrosian half light radius\n",
    "\n",
    "The half light radius contains half of the galaxy total flux. To compute the half light radius, we find the total flux (flux at `r_total_flux`) and divide it by half to find the “half flux” or “half light”. We then find the pixel closest to the half light value and define it as the half light radius. Please note that interpolation is used between the inputted flux radii to find the radius that best matches the half light flux.   \n",
    "\n",
    "We can use the `r_half_light_arcsec` function, by passing it a WCS object, to compute the half light radius in arcsec.\n"
   ]
  },
  {
   "cell_type": "code",
   "execution_count": null,
   "id": "clinical-society",
   "metadata": {},
   "outputs": [],
   "source": [
    "p.r_half_light # pixels"
   ]
  },
  {
   "cell_type": "code",
   "execution_count": null,
   "id": "insured-bible",
   "metadata": {},
   "outputs": [],
   "source": [
    "p.r_half_light_arcsec(image.wcs) # arcsec"
   ]
  },
  {
   "cell_type": "markdown",
   "id": "physical-photography",
   "metadata": {},
   "source": [
    "### Concentration Index\n",
    "\n",
    "The concentration index is the ratio two aperture radii that contain a fraction (percent) of the total flux. It is computed as follows  \n",
    "\n",
    "`concentration_index = 5 * np.log10( r(fraction_2) / r(fraction_1) )`\n",
    "\n",
    "The default is set to `fraction_1 = 0.2` and `fraction_2 = 0.8`. The `concentration_index` function returns the `r_fraction_1`, `r_fraction_2` and `concentration_index`.\n",
    "\n",
    "In these examples, we comput the default `C2080` and `C5090` concentration indices for the input galaxy:"
   ]
  },
  {
   "cell_type": "code",
   "execution_count": null,
   "id": "robust-roots",
   "metadata": {},
   "outputs": [],
   "source": [
    "r_20, r_80, c2080 = p.concentration_index()  # defualt c2080\n",
    "\n",
    "r_20, r_80, c2080 # Radii in pixels"
   ]
  },
  {
   "cell_type": "code",
   "execution_count": null,
   "id": "thick-insulation",
   "metadata": {},
   "outputs": [],
   "source": [
    "r_50, r_90, c5090 = p.concentration_index(\n",
    "    fraction_1=0.5, \n",
    "    fraction_2=0.9\n",
    ")\n",
    "\n",
    "r_50, r_90, c5090 # Radii in pixels"
   ]
  },
  {
   "cell_type": "markdown",
   "id": "burning-compensation",
   "metadata": {},
   "source": [
    "### Petrosian Plot\n",
    "\n",
    "The  Petrosian plot shows the Petrosian profile, the `eta` valued to define the Petrosian radius and the  Petrosian radius. The blue points are the data points and the orange curve is the interpolated values."
   ]
  },
  {
   "cell_type": "code",
   "execution_count": null,
   "id": "prospective-today",
   "metadata": {},
   "outputs": [],
   "source": [
    "# Plot the Petrosian profile\n",
    "p.plot()\n",
    "plt.show()"
   ]
  },
  {
   "cell_type": "markdown",
   "id": "seasonal-generator",
   "metadata": {},
   "source": [
    "We can overplot the half light radius and total flux radius by setting `plot_r=True`. We can also overplot a normalized flux curve of growth by setting `plot_normalized_flux=True`."
   ]
  },
  {
   "cell_type": "code",
   "execution_count": null,
   "id": "earlier-proceeding",
   "metadata": {},
   "outputs": [],
   "source": [
    "# Plot with radii and overplot normalized flux curve of growth\n",
    "p.plot(plot_r=True, plot_normalized_flux=True)\n",
    "plt.show()"
   ]
  },
  {
   "cell_type": "markdown",
   "id": "rural-fever",
   "metadata": {},
   "source": [
    "### Change eta and epsilon\n",
    "\n",
    "We can change the petrosian `eta` and `epsilon` values after the `Petrosian` object has been initiated by setting their respective attributes. After setting the attributes, all other calculations and plots will use the new values.\n",
    "\n",
    "In this example we copy the `Petrosian` object and change the `eta` and `epsilon` values to see how the radii change. Note how `r_half_light` and `r_total_flux` changed. Since `epsilon = 1`, `r_total_flux = r_petrosian` \n"
   ]
  },
  {
   "cell_type": "code",
   "execution_count": null,
   "id": "respiratory-actor",
   "metadata": {
    "scrolled": false
   },
   "outputs": [],
   "source": [
    "from copy import copy\n",
    "\n",
    "p_copy = copy(p)\n",
    "p_copy.eta = 0.3\n",
    "p_copy.epsilon = 1\n",
    "\n",
    "print('eta =', p_copy.eta)\n",
    "print('epsilon =', p_copy.epsilon)\n",
    "print('r_half_light (old vs new) = {:0.2f} vs {:0.2f}'.format(p.r_half_light, p_copy.r_half_light))\n",
    "print('r_total_flux (old vs new) = {:0.2f} vs {:0.2f}'.format(p.r_total_flux, p_copy.r_total_flux))\n",
    "p_copy.plot(plot_r=True)"
   ]
  },
  {
   "cell_type": "markdown",
   "id": "comparative-grain",
   "metadata": {},
   "source": [
    "## Petrosian Corrections\n",
    "\n",
    "We sometimes need to apply corrections to better estimate the total flux radius. This is because the total flux radius is equal to `epsilon * r_petrosian`.  We have created grids of corrections to `epsilon` and a `PetrosianCorrection` to apply corrections to the Petrosian estimates.\n",
    "\n",
    " To explore this, let us take a simulated sersic model with known parameters:\n",
    "\n",
    "```\n",
    "value  | param\n",
    "-------|-------\n",
    "1.0000 | amplitude\n",
    "25.000 | r_eff\n",
    "3.0000 | n\n",
    "150    | x_0\n",
    "150    | y_0\n",
    "0.0000 | ellip\n",
    "0.0000 | theta\n",
    "```\n"
   ]
  },
  {
   "cell_type": "code",
   "execution_count": null,
   "id": "actual-nation",
   "metadata": {},
   "outputs": [],
   "source": [
    "# Load image\n",
    "sersic_image = CCDData.read('data/sersic2d.fits.gz', unit='electron/s')\n",
    "\n",
    "plt.imshow(sersic_image.data, vmax=3*sersic_image.data.std())"
   ]
  },
  {
   "cell_type": "code",
   "execution_count": null,
   "id": "immune-cancer",
   "metadata": {},
   "outputs": [],
   "source": [
    "# Load precomputed photometry\n",
    "sersic_photometry = Table.read('data/sersic2d_photometry.csv')\n",
    "sersic_r_list = sersic_photometry['r_list']\n",
    "sersic_flux_arr = sersic_photometry['flux_arr']\n",
    "sersic_area_arr = sersic_photometry['area_arr'] \n",
    "sersic_error_arr = sersic_photometry['error_arr']"
   ]
  },
  {
   "cell_type": "markdown",
   "id": "unlike-welding",
   "metadata": {},
   "source": [
    "### Estimate Half Light Radius Using Default\n",
    "\n",
    "Here we estimate the half light radius as usual. We expect this value to be to match the `r_eff` parameter above (`r_eff` is the half light radius)."
   ]
  },
  {
   "cell_type": "code",
   "execution_count": null,
   "id": "phantom-volleyball",
   "metadata": {},
   "outputs": [],
   "source": [
    "sersic_p = Petrosian(sersic_r_list, sersic_area_arr, sersic_flux_arr)"
   ]
  },
  {
   "cell_type": "code",
   "execution_count": null,
   "id": "looking-minutes",
   "metadata": {},
   "outputs": [],
   "source": [
    "sersic_p.r_half_light"
   ]
  },
  {
   "cell_type": "code",
   "execution_count": null,
   "id": "cheap-emperor",
   "metadata": {},
   "outputs": [],
   "source": [
    "sersic_p.plot(plot_r=True, plot_normalized_flux=True)"
   ]
  },
  {
   "cell_type": "markdown",
   "id": "shared-serbia",
   "metadata": {},
   "source": [
    "### Load Correction Grid \n",
    "\n",
    "A correction grid is a mapping between the half light radius and C2080 computed using the default settings to a epsilon value that gives the correct radii and concentrations. To load a grid, simply pass its path to the `PetrosianCorrection` class as follows:\n"
   ]
  },
  {
   "cell_type": "code",
   "execution_count": null,
   "id": "vanilla-october",
   "metadata": {},
   "outputs": [],
   "source": [
    "from petrofit.petrosian import PetrosianCorrection\n",
    "\n",
    "pc = PetrosianCorrection(\"data/concentration_index_grid_no_psf.yaml\")"
   ]
  },
  {
   "cell_type": "markdown",
   "id": "bulgarian-disclaimer",
   "metadata": {},
   "source": [
    "### Estimating Sersic Indices \n",
    "\n",
    "An advantage of the petrosian correction is the ability to estimate the Sersic index of a galaxy. To do this we use the `estimate_n` function. Again, we expect this estimate to be close to the `n` param value above. Please note that the inputs are the uncorrected `r_half_light` and `C2080`.\n"
   ]
  },
  {
   "cell_type": "code",
   "execution_count": null,
   "id": "framed-knife",
   "metadata": {},
   "outputs": [],
   "source": [
    "estimated_n = pc.estimate_n(\n",
    "    sersic_p.r_half_light,\n",
    "    sersic_p.concentration_index()[-1]\n",
    ")\n",
    "\n",
    "estimated_n"
   ]
  },
  {
   "cell_type": "markdown",
   "id": "worthy-parking",
   "metadata": {},
   "source": [
    "### Estimate corrected epsilon\n",
    "\n",
    "`epsilon` is the factor we multiply the Petrosian radius with to find the total flux radius and in trun the half light radius. Here we estimate the corrected value that will result in a better estimate of the total flux radius and half light radius by passing the `estimate_epsilon` function the uncorrected `r_half_light` and `C2080`.\n"
   ]
  },
  {
   "cell_type": "code",
   "execution_count": null,
   "id": "foreign-dealer",
   "metadata": {},
   "outputs": [],
   "source": [
    "estimated_epsilon = pc.estimate_epsilon(\n",
    "    sersic_p.r_half_light,\n",
    "    sersic_p.concentration_index()[-1]\n",
    ")\n",
    "\n",
    "estimated_epsilon"
   ]
  },
  {
   "cell_type": "markdown",
   "id": "incorporated-plate",
   "metadata": {},
   "source": [
    "### Override Default\n",
    "\n",
    "Now that we have a better estimate of `epsilon`, we override the default `epsilon` value. We recompute the half light radius and expect it to match the r_eff parameter above (r_eff is the half light radius).\n"
   ]
  },
  {
   "cell_type": "code",
   "execution_count": null,
   "id": "multiple-season",
   "metadata": {},
   "outputs": [],
   "source": [
    "sersic_p.epsilon = estimated_epsilon"
   ]
  },
  {
   "cell_type": "code",
   "execution_count": null,
   "id": "chronic-catholic",
   "metadata": {},
   "outputs": [],
   "source": [
    "sersic_p.r_half_light"
   ]
  },
  {
   "cell_type": "code",
   "execution_count": null,
   "id": "direct-detective",
   "metadata": {},
   "outputs": [],
   "source": [
    "sersic_p.plot(plot_r=True, plot_normalized_flux=True)"
   ]
  }
 ],
 "metadata": {
  "kernelspec": {
   "display_name": "Python 3",
   "language": "python",
   "name": "python3"
  },
  "language_info": {
   "codemirror_mode": {
    "name": "ipython",
    "version": 3
   },
   "file_extension": ".py",
   "mimetype": "text/x-python",
   "name": "python",
   "nbconvert_exporter": "python",
   "pygments_lexer": "ipython3",
   "version": "3.9.1"
  }
 },
 "nbformat": 4,
 "nbformat_minor": 5
}
